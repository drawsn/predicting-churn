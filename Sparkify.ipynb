{
 "cells": [
  {
   "cell_type": "markdown",
   "metadata": {},
   "source": [
    "# Sparkify Project Notebook"
   ]
  },
  {
   "cell_type": "code",
   "execution_count": 1,
   "metadata": {},
   "outputs": [],
   "source": [
    "# import libraries\n",
    "from pyspark.sql import SparkSession\n",
    "from pyspark.sql.window import Window\n",
    "from pyspark.sql import functions as F\n",
    "from pyspark.sql.functions import avg, udf, isnan, col, count\n",
    "from pyspark.sql.types import IntegerType\n",
    "\n",
    "from pyspark.ml import Pipeline\n",
    "from pyspark.ml.classification import LogisticRegression, GBTClassifier\n",
    "from pyspark.ml.feature import MinMaxScaler, VectorAssembler, StandardScaler\n",
    "from pyspark.ml.evaluation import BinaryClassificationEvaluator, MulticlassClassificationEvaluator\n",
    "from pyspark.ml.tuning import CrossValidator, ParamGridBuilder\n",
    "\n",
    "from datetime import datetime\n",
    "import pandas as pd\n",
    "\n",
    "# visualization libs\n",
    "import seaborn as sns\n",
    "%matplotlib inline\n",
    "import matplotlib.pyplot as plt"
   ]
  },
  {
   "cell_type": "code",
   "execution_count": 2,
   "metadata": {},
   "outputs": [],
   "source": [
    "# create a Spark session\n",
    "spark = SparkSession.builder \\\n",
    "    .master(\"local\") \\\n",
    "    .appName(\"Churn rate prediction\") \\\n",
    "    .getOrCreate()"
   ]
  },
  {
   "cell_type": "code",
   "execution_count": 3,
   "metadata": {},
   "outputs": [
    {
     "data": {
      "text/plain": [
       "[('spark.master', 'local'),\n",
       " ('spark.app.id', 'local-1587988050710'),\n",
       " ('spark.app.name', 'Churn rate prediction'),\n",
       " ('spark.rdd.compress', 'True'),\n",
       " ('spark.driver.host', 'fe9ae03c91e5'),\n",
       " ('spark.serializer.objectStreamReset', '100'),\n",
       " ('spark.executor.id', 'driver'),\n",
       " ('spark.submit.deployMode', 'client'),\n",
       " ('spark.driver.port', '43577'),\n",
       " ('spark.ui.showConsoleProgress', 'true')]"
      ]
     },
     "execution_count": 3,
     "metadata": {},
     "output_type": "execute_result"
    }
   ],
   "source": [
    "# get spark details\n",
    "sc = spark.sparkContext\n",
    "sc._conf.getAll()"
   ]
  },
  {
   "cell_type": "markdown",
   "metadata": {},
   "source": [
    "# Load and Clean Dataset"
   ]
  },
  {
   "cell_type": "code",
   "execution_count": 4,
   "metadata": {},
   "outputs": [
    {
     "data": {
      "text/plain": [
       "DataFrame[artist: string, auth: string, firstName: string, gender: string, itemInSession: bigint, lastName: string, length: double, level: string, location: string, method: string, page: string, registration: bigint, sessionId: bigint, song: string, status: bigint, ts: bigint, userAgent: string, userId: string]"
      ]
     },
     "execution_count": 4,
     "metadata": {},
     "output_type": "execute_result"
    }
   ],
   "source": [
    "# set the file path\n",
    "sparkify_data = 'mini_sparkify_event_data.json'\n",
    "\n",
    "# read in the data and create a dataframe\n",
    "df = spark.read.json(sparkify_data)\n",
    "\n",
    "# persist dataframe to improve performance for further operations\n",
    "df.persist()"
   ]
  },
  {
   "cell_type": "code",
   "execution_count": 5,
   "metadata": {},
   "outputs": [
    {
     "name": "stdout",
     "output_type": "stream",
     "text": [
      "root\n",
      " |-- artist: string (nullable = true)\n",
      " |-- auth: string (nullable = true)\n",
      " |-- firstName: string (nullable = true)\n",
      " |-- gender: string (nullable = true)\n",
      " |-- itemInSession: long (nullable = true)\n",
      " |-- lastName: string (nullable = true)\n",
      " |-- length: double (nullable = true)\n",
      " |-- level: string (nullable = true)\n",
      " |-- location: string (nullable = true)\n",
      " |-- method: string (nullable = true)\n",
      " |-- page: string (nullable = true)\n",
      " |-- registration: long (nullable = true)\n",
      " |-- sessionId: long (nullable = true)\n",
      " |-- song: string (nullable = true)\n",
      " |-- status: long (nullable = true)\n",
      " |-- ts: long (nullable = true)\n",
      " |-- userAgent: string (nullable = true)\n",
      " |-- userId: string (nullable = true)\n",
      "\n"
     ]
    }
   ],
   "source": [
    "# get basic information about the dataset\n",
    "df.printSchema()"
   ]
  },
  {
   "cell_type": "code",
   "execution_count": 6,
   "metadata": {},
   "outputs": [
    {
     "data": {
      "text/plain": [
       "286500"
      ]
     },
     "execution_count": 6,
     "metadata": {},
     "output_type": "execute_result"
    }
   ],
   "source": [
    "# show the number of entries the dataframe contains\n",
    "df.count()"
   ]
  },
  {
   "cell_type": "code",
   "execution_count": 7,
   "metadata": {},
   "outputs": [
    {
     "name": "stdout",
     "output_type": "stream",
     "text": [
      "+----------------+---------+---------+------+-------------+--------+---------+-----+--------------------+------+--------+-------------+---------+-----------------+------+-------------+--------------------+------+\n",
      "|          artist|     auth|firstName|gender|itemInSession|lastName|   length|level|            location|method|    page| registration|sessionId|             song|status|           ts|           userAgent|userId|\n",
      "+----------------+---------+---------+------+-------------+--------+---------+-----+--------------------+------+--------+-------------+---------+-----------------+------+-------------+--------------------+------+\n",
      "|  Martha Tilston|Logged In|    Colin|     M|           50| Freeman|277.89016| paid|     Bakersfield, CA|   PUT|NextSong|1538173362000|       29|        Rockpools|   200|1538352117000|Mozilla/5.0 (Wind...|    30|\n",
      "|Five Iron Frenzy|Logged In|    Micah|     M|           79|    Long|236.09424| free|Boston-Cambridge-...|   PUT|NextSong|1538331630000|        8|           Canada|   200|1538352180000|\"Mozilla/5.0 (Win...|     9|\n",
      "|    Adam Lambert|Logged In|    Colin|     M|           51| Freeman| 282.8273| paid|     Bakersfield, CA|   PUT|NextSong|1538173362000|       29|Time For Miracles|   200|1538352394000|Mozilla/5.0 (Wind...|    30|\n",
      "+----------------+---------+---------+------+-------------+--------+---------+-----+--------------------+------+--------+-------------+---------+-----------------+------+-------------+--------------------+------+\n",
      "only showing top 3 rows\n",
      "\n"
     ]
    }
   ],
   "source": [
    "# show the first 3 entries of the df\n",
    "df.show(3)"
   ]
  },
  {
   "cell_type": "code",
   "execution_count": 8,
   "metadata": {},
   "outputs": [
    {
     "name": "stdout",
     "output_type": "stream",
     "text": [
      "+-------+-----------------+\n",
      "|summary|           userId|\n",
      "+-------+-----------------+\n",
      "|  count|           286500|\n",
      "|   mean|59682.02278593872|\n",
      "| stddev|109091.9499991047|\n",
      "|    min|                 |\n",
      "|    max|               99|\n",
      "+-------+-----------------+\n",
      "\n"
     ]
    }
   ],
   "source": [
    "# get details about the userId field\n",
    "df.describe(\"userId\").show()"
   ]
  },
  {
   "cell_type": "markdown",
   "metadata": {},
   "source": [
    "The minimum value in the userId column is empty which indicates that for some entries the userId is missing.\n",
    "As we are interested in churn rate, we need to have users who's Ids are known."
   ]
  },
  {
   "cell_type": "code",
   "execution_count": 9,
   "metadata": {},
   "outputs": [
    {
     "name": "stdout",
     "output_type": "stream",
     "text": [
      "+------+----------+---------+------+-------------+--------+------+-----+--------+------+----+------------+---------+----+------+-------------+---------+------+\n",
      "|artist|      auth|firstName|gender|itemInSession|lastName|length|level|location|method|page|registration|sessionId|song|status|           ts|userAgent|userId|\n",
      "+------+----------+---------+------+-------------+--------+------+-----+--------+------+----+------------+---------+----+------+-------------+---------+------+\n",
      "|  null|Logged Out|     null|  null|          100|    null|  null| free|    null|   GET|Home|        null|        8|null|   200|1538355745000|     null|      |\n",
      "|  null|Logged Out|     null|  null|          101|    null|  null| free|    null|   GET|Help|        null|        8|null|   200|1538355807000|     null|      |\n",
      "|  null|Logged Out|     null|  null|          102|    null|  null| free|    null|   GET|Home|        null|        8|null|   200|1538355841000|     null|      |\n",
      "+------+----------+---------+------+-------------+--------+------+-----+--------+------+----+------------+---------+----+------+-------------+---------+------+\n",
      "only showing top 3 rows\n",
      "\n"
     ]
    }
   ],
   "source": [
    "# explore how the entries with missing userId look like\n",
    "df.where(df.userId == \"\").show(3)"
   ]
  },
  {
   "cell_type": "code",
   "execution_count": 10,
   "metadata": {},
   "outputs": [
    {
     "data": {
      "text/plain": [
       "8346"
      ]
     },
     "execution_count": 10,
     "metadata": {},
     "output_type": "execute_result"
    }
   ],
   "source": [
    "# filter missing, null and nan values because unknown users are not part of the scope\n",
    "df.filter((df[\"userId\"] == \"\")).count()"
   ]
  },
  {
   "cell_type": "code",
   "execution_count": 11,
   "metadata": {},
   "outputs": [
    {
     "data": {
      "text/plain": [
       "278154"
      ]
     },
     "execution_count": 11,
     "metadata": {},
     "output_type": "execute_result"
    }
   ],
   "source": [
    "# filter the entries with a missing userId and make the result the new dataframe\n",
    "# as we want to predict churn rate we are interested in actual registered users\n",
    "df = df.filter(df.userId != \"\")\n",
    "df.count()"
   ]
  },
  {
   "cell_type": "code",
   "execution_count": 12,
   "metadata": {},
   "outputs": [
    {
     "data": {
      "text/plain": [
       "0"
      ]
     },
     "execution_count": 12,
     "metadata": {},
     "output_type": "execute_result"
    }
   ],
   "source": [
    "# filter null and nan values because unknown users are not part of the scope\n",
    "df.filter(df[\"userId\"].isNull() | F.isnan(df[\"userId\"])).count()"
   ]
  },
  {
   "cell_type": "code",
   "execution_count": 13,
   "metadata": {},
   "outputs": [
    {
     "data": {
      "text/plain": [
       "0"
      ]
     },
     "execution_count": 13,
     "metadata": {},
     "output_type": "execute_result"
    }
   ],
   "source": [
    "# search the sessionId column for missing, null and nan values\n",
    "df.filter((df[\"sessionId\"] == \"\") | df[\"sessionId\"].isNull() | F.isnan(df[\"sessionId\"])).count()"
   ]
  },
  {
   "cell_type": "code",
   "execution_count": 14,
   "metadata": {},
   "outputs": [
    {
     "data": {
      "text/plain": [
       "278154"
      ]
     },
     "execution_count": 14,
     "metadata": {},
     "output_type": "execute_result"
    }
   ],
   "source": [
    "# search for duplicated entries\n",
    "df.dropDuplicates().count()"
   ]
  },
  {
   "cell_type": "markdown",
   "metadata": {},
   "source": [
    "After dopping duplicated rows there are still 278154 left, confirming no duplicates entries in the dataframe."
   ]
  },
  {
   "cell_type": "markdown",
   "metadata": {},
   "source": [
    "# Exploratory Data Analysis"
   ]
  },
  {
   "cell_type": "code",
   "execution_count": 15,
   "metadata": {},
   "outputs": [],
   "source": [
    "# create function that returns 1 if the cancellation confirmation page was visited at an event\n",
    "flag_churn = udf(lambda x: 1 if x == 'Cancellation Confirmation' else 0, IntegerType())"
   ]
  },
  {
   "cell_type": "code",
   "execution_count": 16,
   "metadata": {},
   "outputs": [
    {
     "name": "stdout",
     "output_type": "stream",
     "text": [
      "+----------------+---------+---------+------+-------------+--------+---------+-----+--------------------+------+--------+-------------+---------+-----------------+------+-------------+--------------------+------+-----+\n",
      "|          artist|     auth|firstName|gender|itemInSession|lastName|   length|level|            location|method|    page| registration|sessionId|             song|status|           ts|           userAgent|userId|churn|\n",
      "+----------------+---------+---------+------+-------------+--------+---------+-----+--------------------+------+--------+-------------+---------+-----------------+------+-------------+--------------------+------+-----+\n",
      "|  Martha Tilston|Logged In|    Colin|     M|           50| Freeman|277.89016| paid|     Bakersfield, CA|   PUT|NextSong|1538173362000|       29|        Rockpools|   200|1538352117000|Mozilla/5.0 (Wind...|    30|    0|\n",
      "|Five Iron Frenzy|Logged In|    Micah|     M|           79|    Long|236.09424| free|Boston-Cambridge-...|   PUT|NextSong|1538331630000|        8|           Canada|   200|1538352180000|\"Mozilla/5.0 (Win...|     9|    0|\n",
      "|    Adam Lambert|Logged In|    Colin|     M|           51| Freeman| 282.8273| paid|     Bakersfield, CA|   PUT|NextSong|1538173362000|       29|Time For Miracles|   200|1538352394000|Mozilla/5.0 (Wind...|    30|    0|\n",
      "+----------------+---------+---------+------+-------------+--------+---------+-----+--------------------+------+--------+-------------+---------+-----------------+------+-------------+--------------------+------+-----+\n",
      "only showing top 3 rows\n",
      "\n"
     ]
    }
   ],
   "source": [
    "# create new column and fill with 1 if churned user\n",
    "df = df.withColumn('churn', flag_churn('page'))\n",
    "df.show(3)"
   ]
  },
  {
   "cell_type": "code",
   "execution_count": 17,
   "metadata": {},
   "outputs": [
    {
     "name": "stdout",
     "output_type": "stream",
     "text": [
      "+------+---------+---------+------+-------------+--------+------+-----+--------------------+------+--------------------+-------------+---------+----+------+-------------+--------------------+------+-----+\n",
      "|artist|     auth|firstName|gender|itemInSession|lastName|length|level|            location|method|                page| registration|sessionId|song|status|           ts|           userAgent|userId|churn|\n",
      "+------+---------+---------+------+-------------+--------+------+-----+--------------------+------+--------------------+-------------+---------+----+------+-------------+--------------------+------+-----+\n",
      "|  null|Cancelled|   Adriel|     M|          104| Mendoza|  null| paid|  Kansas City, MO-KS|   GET|Cancellation Conf...|1535623466000|      514|null|   200|1538943990000|\"Mozilla/5.0 (Mac...|    18|    1|\n",
      "|  null|Cancelled|    Diego|     M|           56|   Mckee|  null| paid|Phoenix-Mesa-Scot...|   GET|Cancellation Conf...|1537167593000|      540|null|   200|1539033046000|\"Mozilla/5.0 (iPh...|    32|    1|\n",
      "|  null|Cancelled|    Mason|     M|           10|    Hart|  null| free|  Corpus Christi, TX|   GET|Cancellation Conf...|1533157139000|      174|null|   200|1539318918000|\"Mozilla/5.0 (Mac...|   125|    1|\n",
      "+------+---------+---------+------+-------------+--------+------+-----+--------------------+------+--------------------+-------------+---------+----+------+-------------+--------------------+------+-----+\n",
      "only showing top 3 rows\n",
      "\n"
     ]
    }
   ],
   "source": [
    "# check if the function worked and how entries with the churn flag look like\n",
    "df.filter('churn = 1').show(3)"
   ]
  },
  {
   "cell_type": "code",
   "execution_count": 18,
   "metadata": {},
   "outputs": [],
   "source": [
    "# create a new column that flags every entry of a user as churned if one event does\n",
    "window_uid = Window.partitionBy('userId')\n",
    "df = df.withColumn('churned_user', F.max('churn').over(window_uid))"
   ]
  },
  {
   "cell_type": "code",
   "execution_count": 19,
   "metadata": {},
   "outputs": [
    {
     "data": {
      "text/plain": [
       "52"
      ]
     },
     "execution_count": 19,
     "metadata": {},
     "output_type": "execute_result"
    }
   ],
   "source": [
    "# find out how many users churned\n",
    "df.filter('churn = 1').count()"
   ]
  },
  {
   "cell_type": "code",
   "execution_count": 20,
   "metadata": {},
   "outputs": [
    {
     "data": {
      "text/plain": [
       "225"
      ]
     },
     "execution_count": 20,
     "metadata": {},
     "output_type": "execute_result"
    }
   ],
   "source": [
    "# we put the churned users into perspective by counting the total unqiue users\n",
    "df.select('userId').dropDuplicates().count()"
   ]
  },
  {
   "cell_type": "code",
   "execution_count": 21,
   "metadata": {},
   "outputs": [
    {
     "data": {
      "image/png": "[encoded data removed]",
      "text/plain": [
       "<matplotlib.figure.Figure at 0x7ffa016bc438>"
      ]
     },
     "metadata": {
      "needs_background": "light"
     },
     "output_type": "display_data"
    }
   ],
   "source": [
    "# explore the relation of churn to paid and free users\n",
    "churn_per_level = df.dropDuplicates(['userId']).groupBy(\"churned_user\", \"level\").count().toPandas()\n",
    "sns.barplot(x='level', y='count', hue='churned_user', data=churn_per_level)\n",
    "plt.title('churn for free and paid users')\n",
    "plt.show()"
   ]
  },
  {
   "cell_type": "code",
   "execution_count": 22,
   "metadata": {},
   "outputs": [
    {
     "name": "stdout",
     "output_type": "stream",
     "text": [
      "+-----+----------------------------------+\n",
      "|level|(sum(churned_user) / count(level))|\n",
      "+-----+----------------------------------+\n",
      "| free|               0.24858757062146894|\n",
      "| paid|               0.16666666666666666|\n",
      "+-----+----------------------------------+\n",
      "\n"
     ]
    }
   ],
   "source": [
    "# ratio of churned users to total users, per level\n",
    "df.dropDuplicates(['userId']).select('level', 'churned_user').groupby('level').agg(F.sum('churned_user') / F.count('level')).show()"
   ]
  },
  {
   "cell_type": "code",
   "execution_count": 23,
   "metadata": {},
   "outputs": [
    {
     "name": "stdout",
     "output_type": "stream",
     "text": [
      "+------+-----+\n",
      "|gender|count|\n",
      "+------+-----+\n",
      "|     F|  104|\n",
      "|     M|  121|\n",
      "+------+-----+\n",
      "\n"
     ]
    }
   ],
   "source": [
    "# gender distribution of users\n",
    "df.dropDuplicates(['userId']).groupBy('gender').count().show()"
   ]
  },
  {
   "cell_type": "code",
   "execution_count": 24,
   "metadata": {},
   "outputs": [
    {
     "name": "stdout",
     "output_type": "stream",
     "text": [
      "+------+------------+-----+\n",
      "|gender|churned_user|count|\n",
      "+------+------------+-----+\n",
      "|     F|           1|   20|\n",
      "|     F|           0|   84|\n",
      "|     M|           1|   32|\n",
      "|     M|           0|   89|\n",
      "+------+------------+-----+\n",
      "\n"
     ]
    }
   ],
   "source": [
    "# user churn per gender\n",
    "df.dropDuplicates(['userId']).groupBy('gender', 'churned_user').count().sort('gender').show()"
   ]
  },
  {
   "cell_type": "code",
   "execution_count": 25,
   "metadata": {},
   "outputs": [
    {
     "name": "stdout",
     "output_type": "stream",
     "text": [
      "+-------+--------------------+\n",
      "|summary|           userAgent|\n",
      "+-------+--------------------+\n",
      "|  count|              278154|\n",
      "|   mean|                null|\n",
      "| stddev|                null|\n",
      "|    min|\"Mozilla/5.0 (Mac...|\n",
      "|    max|Mozilla/5.0 (comp...|\n",
      "+-------+--------------------+\n",
      "\n"
     ]
    }
   ],
   "source": [
    "# explore userAgent col to see if it stores any useful information for our analysis\n",
    "df.describe('userAgent').show()"
   ]
  },
  {
   "cell_type": "code",
   "execution_count": 26,
   "metadata": {},
   "outputs": [
    {
     "name": "stdout",
     "output_type": "stream",
     "text": [
      "+---------+\n",
      "|     auth|\n",
      "+---------+\n",
      "|Cancelled|\n",
      "|Logged In|\n",
      "+---------+\n",
      "\n"
     ]
    }
   ],
   "source": [
    "# explore auth column\n",
    "df.select('auth').dropDuplicates().show()"
   ]
  },
  {
   "cell_type": "code",
   "execution_count": 27,
   "metadata": {},
   "outputs": [
    {
     "name": "stdout",
     "output_type": "stream",
     "text": [
      "+------+\n",
      "|method|\n",
      "+------+\n",
      "|   PUT|\n",
      "|   GET|\n",
      "+------+\n",
      "\n"
     ]
    }
   ],
   "source": [
    "# explore method column\n",
    "df.select('method').dropDuplicates().show()"
   ]
  },
  {
   "cell_type": "code",
   "execution_count": 28,
   "metadata": {},
   "outputs": [
    {
     "name": "stdout",
     "output_type": "stream",
     "text": [
      "+------+\n",
      "|status|\n",
      "+------+\n",
      "|   307|\n",
      "|   404|\n",
      "|   200|\n",
      "+------+\n",
      "\n"
     ]
    }
   ],
   "source": [
    "# explore status column\n",
    "df.select('status').dropDuplicates().show()"
   ]
  },
  {
   "cell_type": "code",
   "execution_count": 29,
   "metadata": {},
   "outputs": [
    {
     "name": "stdout",
     "output_type": "stream",
     "text": [
      "+------+------+\n",
      "|status| count|\n",
      "+------+------+\n",
      "|   307| 23184|\n",
      "|   404|   252|\n",
      "|   200|254718|\n",
      "+------+------+\n",
      "\n"
     ]
    }
   ],
   "source": [
    "# explore the distribution of status\n",
    "# a high rate of 404 errors could indicate that the service is not working properly\n",
    "df.groupby('status').count().show()"
   ]
  },
  {
   "cell_type": "code",
   "execution_count": 30,
   "metadata": {},
   "outputs": [
    {
     "name": "stdout",
     "output_type": "stream",
     "text": [
      "+-------------------------+\n",
      "|page                     |\n",
      "+-------------------------+\n",
      "|Cancel                   |\n",
      "|Submit Downgrade         |\n",
      "|Thumbs Down              |\n",
      "|Home                     |\n",
      "|Downgrade                |\n",
      "|Roll Advert              |\n",
      "|Logout                   |\n",
      "|Save Settings            |\n",
      "|Cancellation Confirmation|\n",
      "|About                    |\n",
      "|Settings                 |\n",
      "|Add to Playlist          |\n",
      "|Add Friend               |\n",
      "|NextSong                 |\n",
      "|Thumbs Up                |\n",
      "|Help                     |\n",
      "|Upgrade                  |\n",
      "|Error                    |\n",
      "|Submit Upgrade           |\n",
      "+-------------------------+\n",
      "\n"
     ]
    }
   ],
   "source": [
    "# get an overview of the possible events\n",
    "# save the list for further use\n",
    "events = df.select('page').dropDuplicates()\n",
    "events.show(30, False)"
   ]
  },
  {
   "cell_type": "code",
   "execution_count": 31,
   "metadata": {},
   "outputs": [
    {
     "name": "stdout",
     "output_type": "stream",
     "text": [
      "+------------+---------------+------+\n",
      "|churned_user|page           |count |\n",
      "+------------+---------------+------+\n",
      "|0           |NextSong       |191714|\n",
      "|1           |NextSong       |36394 |\n",
      "|0           |Thumbs Up      |10692 |\n",
      "|0           |Home           |8410  |\n",
      "|0           |Add to Playlist|5488  |\n",
      "|0           |Add Friend     |3641  |\n",
      "|0           |Roll Advert    |2966  |\n",
      "|0           |Logout         |2673  |\n",
      "|0           |Thumbs Down    |2050  |\n",
      "|1           |Thumbs Up      |1859  |\n",
      "|0           |Downgrade      |1718  |\n",
      "|1           |Home           |1672  |\n",
      "|0           |Settings       |1244  |\n",
      "|0           |Help           |1215  |\n",
      "|1           |Add to Playlist|1038  |\n",
      "|1           |Roll Advert    |967   |\n",
      "|1           |Add Friend     |636   |\n",
      "|1           |Logout         |553   |\n",
      "|1           |Thumbs Down    |496   |\n",
      "|0           |About          |439   |\n",
      "|0           |Upgrade        |387   |\n",
      "|1           |Downgrade      |337   |\n",
      "|1           |Settings       |270   |\n",
      "|0           |Save Settings  |252   |\n",
      "|1           |Help           |239   |\n",
      "|0           |Error          |220   |\n",
      "|0           |Submit Upgrade |127   |\n",
      "|1           |Upgrade        |112   |\n",
      "|1           |Save Settings  |58    |\n",
      "|1           |About          |56    |\n",
      "+------------+---------------+------+\n",
      "only showing top 30 rows\n",
      "\n"
     ]
    }
   ],
   "source": [
    "# explore the event distribution \n",
    "df.groupby('churned_user', 'page').count().sort('count', ascending=False).show(30, False)"
   ]
  },
  {
   "cell_type": "code",
   "execution_count": 32,
   "metadata": {},
   "outputs": [],
   "source": [
    "# create ts column in seconds from the ts column in miliseconds\n",
    "df = df.withColumn('ts_sec', col(\"ts\")/1000.0)"
   ]
  },
  {
   "cell_type": "code",
   "execution_count": 33,
   "metadata": {},
   "outputs": [
    {
     "name": "stdout",
     "output_type": "stream",
     "text": [
      "+--------------------+---------+---------+------+-------------+---------+---------+-----+--------------------+------+---------+-------------+---------+--------------------+------+-------------+--------------------+------+-----+------------+-------------+-------------------+\n",
      "|              artist|     auth|firstName|gender|itemInSession| lastName|   length|level|            location|method|     page| registration|sessionId|                song|status|           ts|           userAgent|userId|churn|churned_user|       ts_sec|               date|\n",
      "+--------------------+---------+---------+------+-------------+---------+---------+-----+--------------------+------+---------+-------------+---------+--------------------+------+-------------+--------------------+------+-----+------------+-------------+-------------------+\n",
      "|Sleeping With Sirens|Logged In| Darianna|     F|            0|Carpenter|202.97098| free|Bridgeport-Stamfo...|   PUT| NextSong|1538016340000|       31|Captain Tyin Knot...|   200|1539003534000|\"Mozilla/5.0 (iPh...|100010|    0|           0|1.539003534E9|2018-10-08 12:58:54|\n",
      "|Francesca Battist...|Logged In| Darianna|     F|            1|Carpenter|196.54485| free|Bridgeport-Stamfo...|   PUT| NextSong|1538016340000|       31|Beautiful_ Beauti...|   200|1539003736000|\"Mozilla/5.0 (iPh...|100010|    0|           0|1.539003736E9|2018-10-08 13:02:16|\n",
      "|              Brutha|Logged In| Darianna|     F|            2|Carpenter|263.13098| free|Bridgeport-Stamfo...|   PUT| NextSong|1538016340000|       31|          She's Gone|   200|1539003932000|\"Mozilla/5.0 (iPh...|100010|    0|           0|1.539003932E9|2018-10-08 13:05:32|\n",
      "|                null|Logged In| Darianna|     F|            3|Carpenter|     null| free|Bridgeport-Stamfo...|   PUT|Thumbs Up|1538016340000|       31|                null|   307|1539003933000|\"Mozilla/5.0 (iPh...|100010|    0|           0|1.539003933E9|2018-10-08 13:05:33|\n",
      "|         Josh Ritter|Logged In| Darianna|     F|            4|Carpenter|316.23791| free|Bridgeport-Stamfo...|   PUT| NextSong|1538016340000|       31|      Folk Bloodbath|   200|1539004195000|\"Mozilla/5.0 (iPh...|100010|    0|           0|1.539004195E9|2018-10-08 13:09:55|\n",
      "+--------------------+---------+---------+------+-------------+---------+---------+-----+--------------------+------+---------+-------------+---------+--------------------+------+-------------+--------------------+------+-----+------------+-------------+-------------------+\n",
      "only showing top 5 rows\n",
      "\n"
     ]
    }
   ],
   "source": [
    "# create human readable date field from the timestamp\n",
    "df = df.withColumn('date', F.from_unixtime(col(\"ts_sec\")))\n",
    "df.show(5)"
   ]
  },
  {
   "cell_type": "code",
   "execution_count": 34,
   "metadata": {},
   "outputs": [],
   "source": [
    "# in order to explore usage behavior we want to extract hour from the timestamp\n",
    "# as well as the day and weekday the entry occured and save them as new columns for further use\n",
    "get_hour = udf(lambda x: datetime.fromtimestamp(x).hour)\n",
    "df = df.withColumn('hour', get_hour(df.ts_sec).cast(IntegerType()))\n",
    "\n",
    "get_day = udf(lambda x: datetime.fromtimestamp(x).day)\n",
    "df = df.withColumn('day', get_day(df.ts_sec).cast(IntegerType()))\n",
    "\n",
    "get_weekday = udf(lambda x: datetime.fromtimestamp(x).isoweekday())\n",
    "df = df.withColumn('weekday', get_weekday(df.ts_sec).cast(IntegerType()))"
   ]
  },
  {
   "cell_type": "code",
   "execution_count": 35,
   "metadata": {},
   "outputs": [
    {
     "data": {
      "image/png": "[encoded data removed]",
      "text/plain": [
       "<matplotlib.figure.Figure at 0x7ffa015a7b38>"
      ]
     },
     "metadata": {
      "needs_background": "light"
     },
     "output_type": "display_data"
    }
   ],
   "source": [
    "# the number of events happening per day could be an indication for intensity of use\n",
    "# therefore we want to take a look at the usage distribution around the weekdays\n",
    "activity_per_weekday_pd = df.select('weekday').groupBy('weekday').count().orderBy('weekday').toPandas()\n",
    "sns.barplot(x='weekday', y='count', data=activity_per_weekday_pd, color='steelblue')\n",
    "plt.title('activity per weekday')\n",
    "plt.show()"
   ]
  },
  {
   "cell_type": "markdown",
   "metadata": {},
   "source": [
    "If we assume that the number of events occuring is an indicator for usage, we can see that during the working week usage is nearly doubled compared to weekends. For comparison we can take a look at how the churn numbers are distributed among those days."
   ]
  },
  {
   "cell_type": "code",
   "execution_count": 36,
   "metadata": {},
   "outputs": [
    {
     "data": {
      "image/png": "[encoded data removed]",
      "text/plain": [
       "<matplotlib.figure.Figure at 0x7ffa0159f390>"
      ]
     },
     "metadata": {
      "needs_background": "light"
     },
     "output_type": "display_data"
    }
   ],
   "source": [
    "# look at the churn events per weekday\n",
    "churn_weekday = df.select('weekday').where(df.churn == 1).groupBy('weekday').count().orderBy('weekday').toPandas()\n",
    "sns.barplot(x='weekday', y='count', data=churn_weekday, color='steelblue')\n",
    "plt.title('churn per weekday')\n",
    "plt.show()"
   ]
  },
  {
   "cell_type": "markdown",
   "metadata": {},
   "source": [
    "We can see that the usage pattern for overall activity can not be observed for the churn rate."
   ]
  },
  {
   "cell_type": "code",
   "execution_count": 37,
   "metadata": {},
   "outputs": [
    {
     "name": "stdout",
     "output_type": "stream",
     "text": [
      "+------+-----+\n",
      "|userID|count|\n",
      "+------+-----+\n",
      "|100010|  381|\n",
      "|200002|  474|\n",
      "|   125|   11|\n",
      "|    51| 2464|\n",
      "|   124| 4825|\n",
      "+------+-----+\n",
      "only showing top 5 rows\n",
      "\n"
     ]
    }
   ],
   "source": [
    "# get a sample of the number of songs users have listened to\n",
    "df.select('userId','song').groupBy('userID').count().show(5)"
   ]
  },
  {
   "cell_type": "code",
   "execution_count": 38,
   "metadata": {},
   "outputs": [
    {
     "data": {
      "image/png": "[encoded data removed]",
      "text/plain": [
       "<matplotlib.figure.Figure at 0x7ffa014e8908>"
      ]
     },
     "metadata": {
      "needs_background": "light"
     },
     "output_type": "display_data"
    }
   ],
   "source": [
    "# get a sample of the activity on the plattform per hour of the day\n",
    "activity_per_hour = df.groupBy('churned_user', 'hour').count().sort('hour').toPandas()\n",
    "sns.barplot(x='hour', y='count', hue=\"churned_user\", data=activity_per_hour)\n",
    "plt.title('total activity per hour of the day')\n",
    "plt.show()"
   ]
  },
  {
   "cell_type": "code",
   "execution_count": 39,
   "metadata": {
    "scrolled": false
   },
   "outputs": [
    {
     "name": "stdout",
     "output_type": "stream",
     "text": [
      "+------+--------------------+-------------+-------------------+\n",
      "|userId|                page|       ts_sec|               date|\n",
      "+------+--------------------+-------------+-------------------+\n",
      "|    17|Cancellation Conf...|1.539465584E9|2018-10-13 21:19:44|\n",
      "|    17|              Cancel|1.539465451E9|2018-10-13 21:17:31|\n",
      "|    17|            Settings| 1.53946545E9|2018-10-13 21:17:30|\n",
      "|    17|            NextSong|1.539464966E9|2018-10-13 21:09:26|\n",
      "|    17|            NextSong|1.539464599E9|2018-10-13 21:03:19|\n",
      "|    17|            NextSong|1.539464344E9|2018-10-13 20:59:04|\n",
      "|    17|            NextSong|1.539464177E9|2018-10-13 20:56:17|\n",
      "|    17|            NextSong|1.539463829E9|2018-10-13 20:50:29|\n",
      "|    17|            NextSong|1.539463637E9|2018-10-13 20:47:17|\n",
      "|    17|     Add to Playlist|1.539463579E9|2018-10-13 20:46:19|\n",
      "|    17|            NextSong|1.539463374E9|2018-10-13 20:42:54|\n",
      "|    17|            NextSong| 1.53946313E9|2018-10-13 20:38:50|\n",
      "|    17|            NextSong|1.539462954E9|2018-10-13 20:35:54|\n",
      "|    17|            NextSong|1.539462695E9|2018-10-13 20:31:35|\n",
      "|    17|            NextSong|1.539462564E9|2018-10-13 20:29:24|\n",
      "|    17|            NextSong| 1.53946224E9|2018-10-13 20:24:00|\n",
      "|    17|            NextSong|1.539462056E9|2018-10-13 20:20:56|\n",
      "|    17|            NextSong| 1.53946187E9|2018-10-13 20:17:50|\n",
      "|    17|           Thumbs Up| 1.53946161E9|2018-10-13 20:13:30|\n",
      "|    17|            NextSong|1.539461609E9|2018-10-13 20:13:29|\n",
      "+------+--------------------+-------------+-------------------+\n",
      "only showing top 20 rows\n",
      "\n"
     ]
    }
   ],
   "source": [
    "# see last actions before churn for a specific user\n",
    "df.select('userId', 'page', 'ts_sec', 'date').filter('userId = 17').orderBy('ts', ascending=False).show()"
   ]
  },
  {
   "cell_type": "code",
   "execution_count": 40,
   "metadata": {},
   "outputs": [
    {
     "name": "stdout",
     "output_type": "stream",
     "text": [
      "+------+-----------+-------------+-------------------+-------------+-------------------+\n",
      "|userId|       page|           ts|               date|       ts_sec|          last_date|\n",
      "+------+-----------+-------------+-------------------+-------------+-------------------+\n",
      "|   123|     Logout|1543027386000|2018-11-24 02:43:06|1.543027386E9|2018-11-24 02:43:06|\n",
      "|   123|   NextSong|1543027385000|2018-11-24 02:43:05|1.543027385E9|2018-11-24 02:43:06|\n",
      "|   123|   NextSong|1543027132000|2018-11-24 02:38:52|1.543027132E9|2018-11-24 02:43:06|\n",
      "|   123|   NextSong|1543026890000|2018-11-24 02:34:50| 1.54302689E9|2018-11-24 02:43:06|\n",
      "|   123|   NextSong|1543026610000|2018-11-24 02:30:10| 1.54302661E9|2018-11-24 02:43:06|\n",
      "|   123|Roll Advert|1543026292000|2018-11-24 02:24:52|1.543026292E9|2018-11-24 02:43:06|\n",
      "|   123|   NextSong|1543026286000|2018-11-24 02:24:46|1.543026286E9|2018-11-24 02:43:06|\n",
      "|   123|   NextSong|1543025980000|2018-11-24 02:19:40| 1.54302598E9|2018-11-24 02:43:06|\n",
      "|   123|  Thumbs Up|1543025726000|2018-11-24 02:15:26|1.543025726E9|2018-11-24 02:43:06|\n",
      "|   123|   NextSong|1543025725000|2018-11-24 02:15:25|1.543025725E9|2018-11-24 02:43:06|\n",
      "|   123|   NextSong|1543025439000|2018-11-24 02:10:39|1.543025439E9|2018-11-24 02:43:06|\n",
      "|   123|   NextSong|1543025224000|2018-11-24 02:07:04|1.543025224E9|2018-11-24 02:43:06|\n",
      "|   123|Roll Advert|1543025034000|2018-11-24 02:03:54|1.543025034E9|2018-11-24 02:43:06|\n",
      "|   123|   NextSong|1543025012000|2018-11-24 02:03:32|1.543025012E9|2018-11-24 02:43:06|\n",
      "|   123|Roll Advert|1543024874000|2018-11-24 02:01:14|1.543024874E9|2018-11-24 02:43:06|\n",
      "|   123|   NextSong|1543024863000|2018-11-24 02:01:03|1.543024863E9|2018-11-24 02:43:06|\n",
      "|   123|   NextSong|1543024672000|2018-11-24 01:57:52|1.543024672E9|2018-11-24 02:43:06|\n",
      "|   123|   NextSong|1543024583000|2018-11-24 01:56:23|1.543024583E9|2018-11-24 02:43:06|\n",
      "|   123|   NextSong|1543024357000|2018-11-24 01:52:37|1.543024357E9|2018-11-24 02:43:06|\n",
      "|   123|   NextSong|1543024216000|2018-11-24 01:50:16|1.543024216E9|2018-11-24 02:43:06|\n",
      "+------+-----------+-------------+-------------------+-------------+-------------------+\n",
      "only showing top 20 rows\n",
      "\n"
     ]
    }
   ],
   "source": [
    "# create column with last found date per user\n",
    "df = df.withColumn('last_date', F.max(col('date')).over(window_uid))\n",
    "df.select('userId', 'page', 'ts', 'date', 'ts_sec', 'last_date').filter('userId = 123').orderBy('ts', ascending=False).show()"
   ]
  },
  {
   "cell_type": "code",
   "execution_count": 42,
   "metadata": {
    "scrolled": true
   },
   "outputs": [],
   "source": [
    "# mark rows of last week for further use\n",
    "df = df.withColumn('is_last_week', F.when(F.datediff(col('last_date'), col('date')) < 7, 1).otherwise(0))"
   ]
  },
  {
   "cell_type": "code",
   "execution_count": 43,
   "metadata": {},
   "outputs": [],
   "source": [
    "# get page count for the last week\n",
    "df = df.withColumn('page_sum_last_week', F.sum(col('is_last_week')).over(window_uid).alias(\"page_sum_last_week\"))"
   ]
  },
  {
   "cell_type": "code",
   "execution_count": 44,
   "metadata": {},
   "outputs": [],
   "source": [
    "# count the days in last week where entries are in the dataframe\n",
    "days_last_week = df.groupBy('userId', 'is_last_week').agg(F.countDistinct('day').alias('days_last_week')).filter('is_last_week = 1')\n",
    "df = df.join(days_last_week.select(['userId', 'days_last_week']), on='userId', how='left_outer')"
   ]
  },
  {
   "cell_type": "code",
   "execution_count": 45,
   "metadata": {
    "scrolled": false
   },
   "outputs": [],
   "source": [
    "# calculate the average pages per used day for the last week\n",
    "df = df.withColumn('page_avg_last_week', col('page_sum_last_week') / col('days_last_week'))"
   ]
  },
  {
   "cell_type": "code",
   "execution_count": 46,
   "metadata": {},
   "outputs": [],
   "source": [
    "# create a date column resembling only the days\n",
    "df = df.withColumn('date_day', F.to_date('date','yyyy-MM-dd HH:mm:ss'))"
   ]
  },
  {
   "cell_type": "code",
   "execution_count": 47,
   "metadata": {},
   "outputs": [],
   "source": [
    "# total pages per user for further use\n",
    "df = df.withColumn('total_pages', F.count(col('userId')).over(window_uid))"
   ]
  },
  {
   "cell_type": "code",
   "execution_count": 48,
   "metadata": {},
   "outputs": [],
   "source": [
    "# calculate the average pages a user visits per day\n",
    "avg_page_per_day = df.groupBy('userId').agg((F.count('page') / F.countDistinct('date_day')).alias('avg_page_per_day'))\n",
    "df = df.join(avg_page_per_day, on='userId', how='left_outer')"
   ]
  },
  {
   "cell_type": "code",
   "execution_count": 52,
   "metadata": {},
   "outputs": [
    {
     "name": "stdout",
     "output_type": "stream",
     "text": [
      "+------+--------------------+---------+---------+------+-------------+---------+---------+-----+--------------------+------+---------+-------------+---------+--------------------+------+-------------+--------------------+-----+------------+-------------+-------------------+----+---+-------+-------------------+------------+------------------+--------------+------------------+----------+-----------+-----------------+-----------------+\n",
      "|userId|              artist|     auth|firstName|gender|itemInSession| lastName|   length|level|            location|method|     page| registration|sessionId|                song|status|           ts|           userAgent|churn|churned_user|       ts_sec|               date|hour|day|weekday|          last_date|is_last_week|page_sum_last_week|days_last_week|page_avg_last_week|  date_day|total_pages| avg_page_per_day|        ts_active|\n",
      "+------+--------------------+---------+---------+------+-------------+---------+---------+-----+--------------------+------+---------+-------------+---------+--------------------+------+-------------+--------------------+-----+------------+-------------+-------------------+----+---+-------+-------------------+------------+------------------+--------------+------------------+----------+-----------+-----------------+-----------------+\n",
      "|100010|Sleeping With Sirens|Logged In| Darianna|     F|            0|Carpenter|202.97098| free|Bridgeport-Stamfo...|   PUT| NextSong|1538016340000|       31|Captain Tyin Knot...|   200|1539003534000|\"Mozilla/5.0 (iPh...|    0|           0|1.539003534E9|2018-10-08 12:58:54|  12|  8|      1|2018-11-21 18:12:32|           0|                33|             1|              33.0|2018-10-08|        381|54.42857142857143|44.21780092592593|\n",
      "|100010|Francesca Battist...|Logged In| Darianna|     F|            1|Carpenter|196.54485| free|Bridgeport-Stamfo...|   PUT| NextSong|1538016340000|       31|Beautiful_ Beauti...|   200|1539003736000|\"Mozilla/5.0 (iPh...|    0|           0|1.539003736E9|2018-10-08 13:02:16|  13|  8|      1|2018-11-21 18:12:32|           0|                33|             1|              33.0|2018-10-08|        381|54.42857142857143|44.21780092592593|\n",
      "|100010|              Brutha|Logged In| Darianna|     F|            2|Carpenter|263.13098| free|Bridgeport-Stamfo...|   PUT| NextSong|1538016340000|       31|          She's Gone|   200|1539003932000|\"Mozilla/5.0 (iPh...|    0|           0|1.539003932E9|2018-10-08 13:05:32|  13|  8|      1|2018-11-21 18:12:32|           0|                33|             1|              33.0|2018-10-08|        381|54.42857142857143|44.21780092592593|\n",
      "|100010|                null|Logged In| Darianna|     F|            3|Carpenter|     null| free|Bridgeport-Stamfo...|   PUT|Thumbs Up|1538016340000|       31|                null|   307|1539003933000|\"Mozilla/5.0 (iPh...|    0|           0|1.539003933E9|2018-10-08 13:05:33|  13|  8|      1|2018-11-21 18:12:32|           0|                33|             1|              33.0|2018-10-08|        381|54.42857142857143|44.21780092592593|\n",
      "|100010|         Josh Ritter|Logged In| Darianna|     F|            4|Carpenter|316.23791| free|Bridgeport-Stamfo...|   PUT| NextSong|1538016340000|       31|      Folk Bloodbath|   200|1539004195000|\"Mozilla/5.0 (iPh...|    0|           0|1.539004195E9|2018-10-08 13:09:55|  13|  8|      1|2018-11-21 18:12:32|           0|                33|             1|              33.0|2018-10-08|        381|54.42857142857143|44.21780092592593|\n",
      "+------+--------------------+---------+---------+------+-------------+---------+---------+-----+--------------------+------+---------+-------------+---------+--------------------+------+-------------+--------------------+-----+------------+-------------+-------------------+----+---+-------+-------------------+------------+------------------+--------------+------------------+----------+-----------+-----------------+-----------------+\n",
      "only showing top 5 rows\n",
      "\n"
     ]
    }
   ],
   "source": [
    "# ts active is the timespan where user actions are observable\n",
    "# we suspect long term useres are less likely to churn\n",
    "df = df.withColumn('ts_active', (F.max(col('ts')).over(window_uid) - F.min(col('ts')).over(window_uid))/86400000)\n",
    "df.show(5)"
   ]
  },
  {
   "cell_type": "markdown",
   "metadata": {},
   "source": [
    "# Feature Engineering"
   ]
  },
  {
   "cell_type": "code",
   "execution_count": 53,
   "metadata": {},
   "outputs": [
    {
     "name": "stdout",
     "output_type": "stream",
     "text": [
      "root\n",
      " |-- userId: string (nullable = true)\n",
      " |-- artist: string (nullable = true)\n",
      " |-- auth: string (nullable = true)\n",
      " |-- firstName: string (nullable = true)\n",
      " |-- gender: string (nullable = true)\n",
      " |-- itemInSession: long (nullable = true)\n",
      " |-- lastName: string (nullable = true)\n",
      " |-- length: double (nullable = true)\n",
      " |-- level: string (nullable = true)\n",
      " |-- location: string (nullable = true)\n",
      " |-- method: string (nullable = true)\n",
      " |-- page: string (nullable = true)\n",
      " |-- registration: long (nullable = true)\n",
      " |-- sessionId: long (nullable = true)\n",
      " |-- song: string (nullable = true)\n",
      " |-- status: long (nullable = true)\n",
      " |-- ts: long (nullable = true)\n",
      " |-- userAgent: string (nullable = true)\n",
      " |-- churn: integer (nullable = true)\n",
      " |-- churned_user: integer (nullable = true)\n",
      " |-- ts_sec: double (nullable = true)\n",
      " |-- date: string (nullable = true)\n",
      " |-- hour: integer (nullable = true)\n",
      " |-- day: integer (nullable = true)\n",
      " |-- weekday: integer (nullable = true)\n",
      " |-- last_date: string (nullable = true)\n",
      " |-- is_last_week: integer (nullable = false)\n",
      " |-- page_sum_last_week: long (nullable = true)\n",
      " |-- days_last_week: long (nullable = true)\n",
      " |-- page_avg_last_week: double (nullable = true)\n",
      " |-- date_day: date (nullable = true)\n",
      " |-- total_pages: long (nullable = false)\n",
      " |-- avg_page_per_day: double (nullable = true)\n",
      " |-- ts_active: double (nullable = true)\n",
      "\n"
     ]
    }
   ],
   "source": [
    "# take a look at the scheme once again and choose relevant existing features for the model\n",
    "df.printSchema()"
   ]
  },
  {
   "cell_type": "code",
   "execution_count": 54,
   "metadata": {},
   "outputs": [],
   "source": [
    "# generate a user based dataframe where each row represents a user and each col a feature\n",
    "# retain only the features relevant for the model or further feature engineering\n",
    "df_feature = df.groupBy('userId').agg(F.first('gender').alias('gender'), \\\n",
    "                                      F.first('churned_user').alias('churned_user'), \\\n",
    "                                      F.first('total_pages').alias('total_pages'), \\\n",
    "                                      F.first('ts_active').alias('ts_active'))"
   ]
  },
  {
   "cell_type": "code",
   "execution_count": 55,
   "metadata": {},
   "outputs": [
    {
     "name": "stdout",
     "output_type": "stream",
     "text": [
      "+------+------+------------+-----------+-------------------+\n",
      "|userId|gender|churned_user|total_pages|          ts_active|\n",
      "+------+------+------------+-----------+-------------------+\n",
      "|100010|     F|           0|        381|  44.21780092592593|\n",
      "|200002|     M|           0|        474| 45.496805555555554|\n",
      "|   125|     M|           1|         11|0.02053240740740741|\n",
      "|   124|     F|           0|       4825| 59.996944444444445|\n",
      "|    51|     M|           1|       2464| 15.779398148148148|\n",
      "+------+------+------------+-----------+-------------------+\n",
      "only showing top 5 rows\n",
      "\n"
     ]
    }
   ],
   "source": [
    "# doublecheck if the new dataframe was generated correctly\n",
    "df_feature.show(5)"
   ]
  },
  {
   "cell_type": "code",
   "execution_count": 56,
   "metadata": {},
   "outputs": [],
   "source": [
    "# create function that returns 1 if gender is female and 0 is male\n",
    "encode_gender = udf(lambda x: 1 if x == 'F' else 0, IntegerType())"
   ]
  },
  {
   "cell_type": "code",
   "execution_count": 57,
   "metadata": {},
   "outputs": [
    {
     "name": "stdout",
     "output_type": "stream",
     "text": [
      "+------+------+------------+-----------+-------------------+\n",
      "|userId|gender|churned_user|total_pages|          ts_active|\n",
      "+------+------+------------+-----------+-------------------+\n",
      "|100010|     1|           0|        381|  44.21780092592593|\n",
      "|200002|     0|           0|        474| 45.496805555555554|\n",
      "|   125|     0|           1|         11|0.02053240740740741|\n",
      "|   124|     1|           0|       4825| 59.996944444444445|\n",
      "|    51|     0|           1|       2464| 15.779398148148148|\n",
      "+------+------+------------+-----------+-------------------+\n",
      "only showing top 5 rows\n",
      "\n"
     ]
    }
   ],
   "source": [
    "# encode gender column\n",
    "df_feature = df_feature.withColumn('gender', encode_gender('gender'))\n",
    "df_feature.show(5)"
   ]
  },
  {
   "cell_type": "code",
   "execution_count": 58,
   "metadata": {},
   "outputs": [],
   "source": [
    "# calculate thumbs up ratio and add them as a new column\n",
    "thumbs_up_ratio = df.filter(col('page') == 'Thumbs Up').groupBy('userId').agg((count(col('page')) / F.first('total_pages')).alias('thumbs_up_ratio'))\n",
    "df_feature = df_feature.join(thumbs_up_ratio, on='userId', how='inner')"
   ]
  },
  {
   "cell_type": "code",
   "execution_count": 59,
   "metadata": {},
   "outputs": [],
   "source": [
    "# calculate thumbs down ratio and add them as a new column\n",
    "thumbs_down_ratio = df.filter(col('page') == 'Thumbs Down').groupBy('userId').agg((count(col('page')) / F.first('total_pages')).alias('thumbs_down_ratio'))\n",
    "df_feature = df_feature.join(thumbs_down_ratio, on='userId', how='inner')"
   ]
  },
  {
   "cell_type": "code",
   "execution_count": 60,
   "metadata": {},
   "outputs": [
    {
     "name": "stdout",
     "output_type": "stream",
     "text": [
      "+------+------+------------+-----------+------------------+--------------------+--------------------+----+--------------------+\n",
      "|userId|gender|churned_user|total_pages|         ts_active|     thumbs_up_ratio|   thumbs_down_ratio|help|          help_ratio|\n",
      "+------+------+------------+-----------+------------------+--------------------+--------------------+----+--------------------+\n",
      "|100010|     1|           0|        381| 44.21780092592593| 0.04461942257217848|0.013123359580052493|   2|0.005249343832020997|\n",
      "|200002|     0|           0|        474|45.496805555555554| 0.04430379746835443|0.012658227848101266|   2|0.004219409282700422|\n",
      "|   124|     1|           0|       4825|59.996944444444445| 0.03544041450777202| 0.00849740932642487|  23|0.004766839378238342|\n",
      "|    51|     0|           1|       2464|15.779398148148148|0.040584415584415584|0.008522727272727272|  12| 0.00487012987012987|\n",
      "|     7|     0|           0|        201|50.784050925925925| 0.03482587064676617|0.004975124378109453|   1|0.004975124378109453|\n",
      "+------+------+------------+-----------+------------------+--------------------+--------------------+----+--------------------+\n",
      "only showing top 5 rows\n",
      "\n"
     ]
    }
   ],
   "source": [
    "# we assume that users are more likely to churn if they have problems using the service\n",
    "# how often they use the help page in relation to total pages is our corresponding indicator\n",
    "page_help = df.filter(df['page'] == 'Help').groupby('userId').count().withColumnRenamed('count', 'help')\n",
    "df_feature = df_feature.join(page_help, on='userId', how='inner')\n",
    "\n",
    "df_feature = df_feature.withColumn('help_ratio', col('help') / col('total_pages'))\n",
    "df_feature.show(5)"
   ]
  },
  {
   "cell_type": "code",
   "execution_count": 61,
   "metadata": {},
   "outputs": [
    {
     "name": "stdout",
     "output_type": "stream",
     "text": [
      "+------+------+------------+-----------+------------------+--------------------+--------------------+----+--------------------+----------+\n",
      "|userId|gender|churned_user|total_pages|         ts_active|     thumbs_up_ratio|   thumbs_down_ratio|help|          help_ratio|add_friend|\n",
      "+------+------+------------+-----------+------------------+--------------------+--------------------+----+--------------------+----------+\n",
      "|100010|     1|           0|        381| 44.21780092592593| 0.04461942257217848|0.013123359580052493|   2|0.005249343832020997|         4|\n",
      "|200002|     0|           0|        474|45.496805555555554| 0.04430379746835443|0.012658227848101266|   2|0.004219409282700422|         4|\n",
      "|   124|     1|           0|       4825|59.996944444444445| 0.03544041450777202| 0.00849740932642487|  23|0.004766839378238342|        74|\n",
      "|    51|     0|           1|       2464|15.779398148148148|0.040584415584415584|0.008522727272727272|  12| 0.00487012987012987|        28|\n",
      "|     7|     0|           0|        201|50.784050925925925| 0.03482587064676617|0.004975124378109453|   1|0.004975124378109453|         1|\n",
      "+------+------+------------+-----------+------------------+--------------------+--------------------+----+--------------------+----------+\n",
      "only showing top 5 rows\n",
      "\n"
     ]
    }
   ],
   "source": [
    "# we assume that users are less likely to churn if a lot of their friends use the service\n",
    "# add friend is used as an indicator for friend engagement\n",
    "add_friend = df.filter(df['page'] == 'Add Friend').groupby('userId').count().withColumnRenamed('count', 'add_friend')\n",
    "df_feature = df_feature.join(add_friend, on='userId', how='inner')\n",
    "df_feature.show(5)"
   ]
  },
  {
   "cell_type": "code",
   "execution_count": 62,
   "metadata": {},
   "outputs": [
    {
     "name": "stdout",
     "output_type": "stream",
     "text": [
      "+------+------+------------+-----------+------------------+-------------------+--------------------+----+--------------------+----------+-----------+--------------------+\n",
      "|userId|gender|churned_user|total_pages|         ts_active|    thumbs_up_ratio|   thumbs_down_ratio|help|          help_ratio|add_friend|roll_advert|           advert_ts|\n",
      "+------+------+------------+-----------+------------------+-------------------+--------------------+----+--------------------+----------+-----------+--------------------+\n",
      "|100010|     1|           0|        381| 44.21780092592593|0.04461942257217848|0.013123359580052493|   2|0.005249343832020997|         4|         52|  1.1759969720590784|\n",
      "|200002|     0|           0|        474|45.496805555555554|0.04430379746835443|0.012658227848101266|   2|0.004219409282700422|         4|          7| 0.15385695576917793|\n",
      "|   124|     1|           0|       4825|59.996944444444445|0.03544041450777202| 0.00849740932642487|  23|0.004766839378238342|        74|          4| 0.06667006190130052|\n",
      "|     7|     0|           0|        201|50.784050925925925|0.03482587064676617|0.004975124378109453|   1|0.004975124378109453|         1|         16|  0.3150595454336194|\n",
      "|    15|     0|           0|       2278| 54.77318287037037|0.03555750658472344|0.006145741878841089|   8|0.003511852502194908|        31|          1|0.018257109548785257|\n",
      "+------+------+------------+-----------+------------------+-------------------+--------------------+----+--------------------+----------+-----------+--------------------+\n",
      "only showing top 5 rows\n",
      "\n"
     ]
    }
   ],
   "source": [
    "# adverts over timespan\n",
    "roll_advert = df.filter(df['page'] == 'Roll Advert').groupby('userId').count().withColumnRenamed('count', 'roll_advert')\n",
    "df_feature = df_feature.join(roll_advert, on='userId', how='inner')\n",
    "df_feature = df_feature.withColumn('advert_ts', col('roll_advert') / col('ts_active'))\n",
    "df_feature.show(5)"
   ]
  },
  {
   "cell_type": "code",
   "execution_count": 63,
   "metadata": {},
   "outputs": [
    {
     "name": "stdout",
     "output_type": "stream",
     "text": [
      "+------+------+------------+-----------+------------------+-------------------+--------------------+----+--------------------+----------+-----------+--------------------+-------+\n",
      "|userId|gender|churned_user|total_pages|         ts_active|    thumbs_up_ratio|   thumbs_down_ratio|help|          help_ratio|add_friend|roll_advert|           advert_ts|next_lw|\n",
      "+------+------+------------+-----------+------------------+-------------------+--------------------+----+--------------------+----------+-----------+--------------------+-------+\n",
      "|100010|     1|           0|        381| 44.21780092592593|0.04461942257217848|0.013123359580052493|   2|0.005249343832020997|         4|         52|  1.1759969720590784|     24|\n",
      "|200002|     0|           0|        474|45.496805555555554|0.04430379746835443|0.012658227848101266|   2|0.004219409282700422|         4|          7| 0.15385695576917793|    120|\n",
      "|   124|     1|           0|       4825|59.996944444444445|0.03544041450777202| 0.00849740932642487|  23|0.004766839378238342|        74|          4| 0.06667006190130052|    216|\n",
      "|     7|     0|           0|        201|50.784050925925925|0.03482587064676617|0.004975124378109453|   1|0.004975124378109453|         1|         16|  0.3150595454336194|     17|\n",
      "|    15|     0|           0|       2278| 54.77318287037037|0.03555750658472344|0.006145741878841089|   8|0.003511852502194908|        31|          1|0.018257109548785257|    356|\n",
      "+------+------+------------+-----------+------------------+-------------------+--------------------+----+--------------------+----------+-----------+--------------------+-------+\n",
      "only showing top 5 rows\n",
      "\n"
     ]
    }
   ],
   "source": [
    "# next song last week\n",
    "next_lw = df.filter((col('page') == 'NextSong') & (col('is_last_week') == 1)).groupBy('userId').count().withColumnRenamed('count', 'next_lw')\n",
    "next_lw = next_lw.withColumn(\"next_lw\", next_lw[\"next_lw\"].cast(IntegerType()))\n",
    "df_feature = df_feature.join(next_lw, on='userId', how='inner')\n",
    "df_feature.show(5)"
   ]
  },
  {
   "cell_type": "code",
   "execution_count": 64,
   "metadata": {},
   "outputs": [
    {
     "name": "stdout",
     "output_type": "stream",
     "text": [
      "+------+------+------------+-----------+------------------+-------------------+--------------------+----+--------------------+----------+-----------+--------------------+-------+--------------+\n",
      "|userId|gender|churned_user|total_pages|         ts_active|    thumbs_up_ratio|   thumbs_down_ratio|help|          help_ratio|add_friend|roll_advert|           advert_ts|next_lw|thumbs_down_lw|\n",
      "+------+------+------------+-----------+------------------+-------------------+--------------------+----+--------------------+----------+-----------+--------------------+-------+--------------+\n",
      "|100010|     1|           0|        381| 44.21780092592593|0.04461942257217848|0.013123359580052493|   2|0.005249343832020997|         4|         52|  1.1759969720590784|     24|             1|\n",
      "|   124|     1|           0|       4825|59.996944444444445|0.03544041450777202| 0.00849740932642487|  23|0.004766839378238342|        74|          4| 0.06667006190130052|    216|             1|\n",
      "|    15|     0|           0|       2278| 54.77318287037037|0.03555750658472344|0.006145741878841089|   8|0.003511852502194908|        31|          1|0.018257109548785257|    356|             4|\n",
      "|    54|     1|           1|       3437| 42.79719907407407|0.04742508001163805|0.008437590922315974|  17|0.004946173988943846|        33|         47|  1.0982027099168723|    557|             8|\n",
      "|   155|     1|           0|       1002| 25.82783564814815|0.05788423153692615|0.002994011976047...|   9|0.008982035928143712|        11|          8|  0.3097433369556693|    269|             1|\n",
      "+------+------+------------+-----------+------------------+-------------------+--------------------+----+--------------------+----------+-----------+--------------------+-------+--------------+\n",
      "only showing top 5 rows\n",
      "\n"
     ]
    }
   ],
   "source": [
    "# thumbs down last week\n",
    "thumbs_down_lw = df.filter((col('page') == 'Thumbs Down') & (col('is_last_week') == 1)).groupBy('userId').count().withColumnRenamed('count', 'thumbs_down_lw')\n",
    "df_feature = df_feature.join(thumbs_down_lw, on='userId', how='inner')\n",
    "df_feature.show(5)"
   ]
  },
  {
   "cell_type": "code",
   "execution_count": 65,
   "metadata": {},
   "outputs": [
    {
     "data": {
      "text/plain": [
       "DataFrame[userId: string, artist: string, auth: string, firstName: string, gender: string, itemInSession: bigint, lastName: string, length: double, level: string, location: string, method: string, page: string, registration: bigint, sessionId: bigint, song: string, status: bigint, ts: bigint, userAgent: string, churn: int, churned_user: int, ts_sec: double, date: string, hour: int, day: int, weekday: int, last_date: string, is_last_week: int, page_sum_last_week: bigint, days_last_week: bigint, page_avg_last_week: double, date_day: date, total_pages: bigint, avg_page_per_day: double, ts_active: double]"
      ]
     },
     "execution_count": 65,
     "metadata": {},
     "output_type": "execute_result"
    }
   ],
   "source": [
    "# unperstist the df dataframe to free up memory\n",
    "df.unpersist()"
   ]
  },
  {
   "cell_type": "code",
   "execution_count": 66,
   "metadata": {},
   "outputs": [
    {
     "name": "stdout",
     "output_type": "stream",
     "text": [
      "root\n",
      " |-- userId: string (nullable = true)\n",
      " |-- gender: integer (nullable = true)\n",
      " |-- churned_user: integer (nullable = true)\n",
      " |-- total_pages: long (nullable = true)\n",
      " |-- ts_active: double (nullable = true)\n",
      " |-- thumbs_up_ratio: double (nullable = true)\n",
      " |-- thumbs_down_ratio: double (nullable = true)\n",
      " |-- help: long (nullable = false)\n",
      " |-- help_ratio: double (nullable = true)\n",
      " |-- add_friend: long (nullable = false)\n",
      " |-- roll_advert: long (nullable = false)\n",
      " |-- advert_ts: double (nullable = true)\n",
      " |-- next_lw: integer (nullable = false)\n",
      " |-- thumbs_down_lw: long (nullable = false)\n",
      "\n"
     ]
    }
   ],
   "source": [
    "# look at the final feature dataframe usable by the models\n",
    "df_feature.printSchema()"
   ]
  },
  {
   "cell_type": "markdown",
   "metadata": {},
   "source": [
    "# Modeling"
   ]
  },
  {
   "cell_type": "code",
   "execution_count": 67,
   "metadata": {},
   "outputs": [],
   "source": [
    "# rename the 'churned_user' column to 'label' in order to be usable by the ML models\n",
    "df_feature = df_feature.withColumnRenamed('churned_user', 'label')\n",
    "\n",
    "# split set into test and train data\n",
    "train, test = df_feature.randomSplit([0.8, 0.2], seed=17)"
   ]
  },
  {
   "cell_type": "markdown",
   "metadata": {},
   "source": [
    "**Define pipeline components**"
   ]
  },
  {
   "cell_type": "code",
   "execution_count": 68,
   "metadata": {},
   "outputs": [],
   "source": [
    "# classify the features into categories to differntiate further processing\n",
    "numeric_features = ['thumbs_up_ratio', 'thumbs_down_ratio', 'add_friend', 'help_ratio', 'ts_active', 'advert_ts', 'thumbs_down_lw', 'next_lw']\n",
    "binary_features = ['gender']\n",
    "\n",
    "# create numeric feature vector for further standardization\n",
    "assembler_numeric = VectorAssembler(inputCols=numeric_features, outputCol=\"numeric_features_vector\")\n",
    "\n",
    "# scale numeric cols\n",
    "scaler = StandardScaler(inputCol=\"numeric_features_vector\", outputCol=\"scaled_numeric_features\", withStd=True, withMean=True)\n",
    "\n",
    "# create feature vector\n",
    "assembler = VectorAssembler(inputCols=['scaled_numeric_features']+binary_features, outputCol=\"features\")"
   ]
  },
  {
   "cell_type": "code",
   "execution_count": 69,
   "metadata": {},
   "outputs": [],
   "source": [
    "def get_cv_results(model_crossval_object):\n",
    "    \"\"\"\n",
    "    get the auc scores of a crossvalidation grid\n",
    "    \n",
    "    INPUT:\n",
    "    model_crossval_object - fitted crossvalidation object\n",
    "            \n",
    "    OUTPUT:\n",
    "    dataframe - with params of the crosvalidator and the corresponding AUC score   \n",
    "    \n",
    "    inspired by: https://stackoverflow.com/questions/51230726/extract-results-from-crossvalidator-with-paramgrid-in-pyspark\n",
    "    \"\"\"\n",
    "    params = [{p.name: v for p, v in m.items()} for m in model_crossval_object.getEstimatorParamMaps()]\n",
    "    auc_scores = model_crossval_object.avgMetrics\n",
    "    \n",
    "    cv_results = pd.DataFrame(params)\n",
    "    cv_results['AUC score'] = auc_scores\n",
    "\n",
    "    return cv_results"
   ]
  },
  {
   "cell_type": "code",
   "execution_count": 70,
   "metadata": {},
   "outputs": [],
   "source": [
    "def get_model_evaluation(results):\n",
    "    \"\"\"\n",
    "    evaluate the model based on predictions on the test data\n",
    "    \n",
    "    INPUT:\n",
    "    results - results of the model with test data\n",
    "            \n",
    "    OUTPUT:\n",
    "    dict containing AUC score, F1 score and ratio of correct predictions on the test data\n",
    "    \"\"\"\n",
    "    eval_dict = {}\n",
    "    \n",
    "    # AUC score to evaluate the results on the test data\n",
    "    eval_dict['AUC score'] = BinaryClassificationEvaluator().evaluate(results)\n",
    "    \n",
    "    # f1 score to evaluate the results on the test data\n",
    "    eval_dict['F1 score'] = MulticlassClassificationEvaluator(metricName='f1').evaluate(results)\n",
    "    \n",
    "    # calcualte the ratio of correct predictions\n",
    "    eval_dict['Correct prediction ratio'] = \\\n",
    "    results.filter(results.label == results.prediction).count() / results.count()\n",
    "    \n",
    "    return eval_dict"
   ]
  },
  {
   "cell_type": "code",
   "execution_count": 71,
   "metadata": {},
   "outputs": [],
   "source": [
    "# create model evaluation dict\n",
    "model_evaluation = {\n",
    "    'logistic regression': {},\n",
    "    'gbt': {}\n",
    "}"
   ]
  },
  {
   "cell_type": "markdown",
   "metadata": {},
   "source": [
    "**logistic regression**"
   ]
  },
  {
   "cell_type": "code",
   "execution_count": 72,
   "metadata": {},
   "outputs": [],
   "source": [
    "# create model\n",
    "lr = LogisticRegression()\n",
    "lr_pipeline = Pipeline(stages=[assembler_numeric, scaler, assembler, lr])"
   ]
  },
  {
   "cell_type": "code",
   "execution_count": 73,
   "metadata": {},
   "outputs": [],
   "source": [
    "# parameter grid for model tuning\n",
    "# Always trying out extreme values first in the param grid to see how the model reacts \n",
    "lr_paramGrid = ParamGridBuilder() \\\n",
    "    .addGrid(lr.regParam,[0.0, 0.1]) \\\n",
    "    .addGrid(lr.maxIter, [10, 20]) \\\n",
    "    .addGrid(lr.elasticNetParam, [0.0, 0.2]) \\\n",
    "    .build()\n",
    "\n",
    "# crossvalidator for 2-fold cross-validation\n",
    "lr_crossval = CrossValidator(estimator=lr_pipeline,\n",
    "                          estimatorParamMaps=lr_paramGrid,\n",
    "                          evaluator=BinaryClassificationEvaluator(),\n",
    "                          numFolds=2)"
   ]
  },
  {
   "cell_type": "code",
   "execution_count": 74,
   "metadata": {},
   "outputs": [],
   "source": [
    "# fit the model\n",
    "lr_model_crossval = lr_crossval.fit(train)"
   ]
  },
  {
   "cell_type": "code",
   "execution_count": 75,
   "metadata": {},
   "outputs": [
    {
     "data": {
      "text/html": [
       "<div>\n",
       "<style scoped>\n",
       "    .dataframe tbody tr th:only-of-type {\n",
       "        vertical-align: middle;\n",
       "    }\n",
       "\n",
       "    .dataframe tbody tr th {\n",
       "        vertical-align: top;\n",
       "    }\n",
       "\n",
       "    .dataframe thead th {\n",
       "        text-align: right;\n",
       "    }\n",
       "</style>\n",
       "<table border=\"1\" class=\"dataframe\">\n",
       "  <thead>\n",
       "    <tr style=\"text-align: right;\">\n",
       "      <th></th>\n",
       "      <th>elasticNetParam</th>\n",
       "      <th>maxIter</th>\n",
       "      <th>regParam</th>\n",
       "      <th>AUC score</th>\n",
       "    </tr>\n",
       "  </thead>\n",
       "  <tbody>\n",
       "    <tr>\n",
       "      <th>0</th>\n",
       "      <td>0.0</td>\n",
       "      <td>10</td>\n",
       "      <td>0.0</td>\n",
       "      <td>0.804824</td>\n",
       "    </tr>\n",
       "    <tr>\n",
       "      <th>1</th>\n",
       "      <td>0.2</td>\n",
       "      <td>10</td>\n",
       "      <td>0.0</td>\n",
       "      <td>0.804824</td>\n",
       "    </tr>\n",
       "    <tr>\n",
       "      <th>2</th>\n",
       "      <td>0.0</td>\n",
       "      <td>20</td>\n",
       "      <td>0.0</td>\n",
       "      <td>0.802952</td>\n",
       "    </tr>\n",
       "    <tr>\n",
       "      <th>3</th>\n",
       "      <td>0.2</td>\n",
       "      <td>20</td>\n",
       "      <td>0.0</td>\n",
       "      <td>0.802952</td>\n",
       "    </tr>\n",
       "    <tr>\n",
       "      <th>4</th>\n",
       "      <td>0.0</td>\n",
       "      <td>10</td>\n",
       "      <td>0.1</td>\n",
       "      <td>0.846913</td>\n",
       "    </tr>\n",
       "    <tr>\n",
       "      <th>5</th>\n",
       "      <td>0.2</td>\n",
       "      <td>10</td>\n",
       "      <td>0.1</td>\n",
       "      <td>0.873363</td>\n",
       "    </tr>\n",
       "    <tr>\n",
       "      <th>6</th>\n",
       "      <td>0.0</td>\n",
       "      <td>20</td>\n",
       "      <td>0.1</td>\n",
       "      <td>0.846913</td>\n",
       "    </tr>\n",
       "    <tr>\n",
       "      <th>7</th>\n",
       "      <td>0.2</td>\n",
       "      <td>20</td>\n",
       "      <td>0.1</td>\n",
       "      <td>0.873363</td>\n",
       "    </tr>\n",
       "  </tbody>\n",
       "</table>\n",
       "</div>"
      ],
      "text/plain": [
       "   elasticNetParam  maxIter  regParam  AUC score\n",
       "0              0.0       10       0.0   0.804824\n",
       "1              0.2       10       0.0   0.804824\n",
       "2              0.0       20       0.0   0.802952\n",
       "3              0.2       20       0.0   0.802952\n",
       "4              0.0       10       0.1   0.846913\n",
       "5              0.2       10       0.1   0.873363\n",
       "6              0.0       20       0.1   0.846913\n",
       "7              0.2       20       0.1   0.873363"
      ]
     },
     "execution_count": 75,
     "metadata": {},
     "output_type": "execute_result"
    }
   ],
   "source": [
    "# show grid search results\n",
    "get_cv_results(lr_model_crossval)"
   ]
  },
  {
   "cell_type": "code",
   "execution_count": 76,
   "metadata": {},
   "outputs": [],
   "source": [
    "# transformer of cross validator applies the best performing pipeline by default\n",
    "lr_results = lr_model_crossval.transform(test)"
   ]
  },
  {
   "cell_type": "code",
   "execution_count": 77,
   "metadata": {},
   "outputs": [],
   "source": [
    "# evaluate results\n",
    "model_evaluation['logistic regression'] = get_model_evaluation(lr_results)"
   ]
  },
  {
   "cell_type": "code",
   "execution_count": 78,
   "metadata": {},
   "outputs": [
    {
     "data": {
      "text/plain": [
       "{'AUC score': 0.9629629629629629,\n",
       " 'F1 score': 0.7083333333333333,\n",
       " 'Correct prediction ratio': 0.75}"
      ]
     },
     "execution_count": 78,
     "metadata": {},
     "output_type": "execute_result"
    }
   ],
   "source": [
    "# evaluate results on the test data\n",
    "model_evaluation['logistic regression']"
   ]
  },
  {
   "cell_type": "markdown",
   "metadata": {},
   "source": [
    "**Gradient-boosted tree**"
   ]
  },
  {
   "cell_type": "code",
   "execution_count": 79,
   "metadata": {},
   "outputs": [],
   "source": [
    "gb = GBTClassifier()\n",
    "gb_pipeline = Pipeline(stages = [assembler_numeric, scaler, assembler, gb])"
   ]
  },
  {
   "cell_type": "code",
   "execution_count": 80,
   "metadata": {},
   "outputs": [],
   "source": [
    "# parameter grid for model tuning\n",
    "# Always trying out extreme values first in the param grid to see how the model reacts \n",
    "gb_paramGrid = ParamGridBuilder() \\\n",
    "    .addGrid(gb.maxDepth, [4, 8]) \\\n",
    "    .addGrid(gb.maxIter, [5, 20]) \\\n",
    "    .build()\n",
    "\n",
    "# crossvalidator for 2-fold cross-validation\n",
    "gb_crossval = CrossValidator(estimator = gb_pipeline,\n",
    "                          estimatorParamMaps = gb_paramGrid,\n",
    "                          evaluator = BinaryClassificationEvaluator(),\n",
    "                          numFolds = 2)"
   ]
  },
  {
   "cell_type": "code",
   "execution_count": 81,
   "metadata": {},
   "outputs": [],
   "source": [
    "# fit the model\n",
    "gb_model_crossval = gb_crossval.fit(train)"
   ]
  },
  {
   "cell_type": "code",
   "execution_count": 82,
   "metadata": {},
   "outputs": [
    {
     "data": {
      "text/html": [
       "<div>\n",
       "<style scoped>\n",
       "    .dataframe tbody tr th:only-of-type {\n",
       "        vertical-align: middle;\n",
       "    }\n",
       "\n",
       "    .dataframe tbody tr th {\n",
       "        vertical-align: top;\n",
       "    }\n",
       "\n",
       "    .dataframe thead th {\n",
       "        text-align: right;\n",
       "    }\n",
       "</style>\n",
       "<table border=\"1\" class=\"dataframe\">\n",
       "  <thead>\n",
       "    <tr style=\"text-align: right;\">\n",
       "      <th></th>\n",
       "      <th>maxDepth</th>\n",
       "      <th>maxIter</th>\n",
       "      <th>AUC score</th>\n",
       "    </tr>\n",
       "  </thead>\n",
       "  <tbody>\n",
       "    <tr>\n",
       "      <th>0</th>\n",
       "      <td>4</td>\n",
       "      <td>5</td>\n",
       "      <td>0.806432</td>\n",
       "    </tr>\n",
       "    <tr>\n",
       "      <th>1</th>\n",
       "      <td>4</td>\n",
       "      <td>20</td>\n",
       "      <td>0.808515</td>\n",
       "    </tr>\n",
       "    <tr>\n",
       "      <th>2</th>\n",
       "      <td>8</td>\n",
       "      <td>5</td>\n",
       "      <td>0.806432</td>\n",
       "    </tr>\n",
       "    <tr>\n",
       "      <th>3</th>\n",
       "      <td>8</td>\n",
       "      <td>20</td>\n",
       "      <td>0.808515</td>\n",
       "    </tr>\n",
       "  </tbody>\n",
       "</table>\n",
       "</div>"
      ],
      "text/plain": [
       "   maxDepth  maxIter  AUC score\n",
       "0         4        5   0.806432\n",
       "1         4       20   0.808515\n",
       "2         8        5   0.806432\n",
       "3         8       20   0.808515"
      ]
     },
     "execution_count": 82,
     "metadata": {},
     "output_type": "execute_result"
    }
   ],
   "source": [
    "# show grid search results\n",
    "get_cv_results(gb_model_crossval)"
   ]
  },
  {
   "cell_type": "code",
   "execution_count": 83,
   "metadata": {},
   "outputs": [
    {
     "data": {
      "text/html": [
       "<div>\n",
       "<style scoped>\n",
       "    .dataframe tbody tr th:only-of-type {\n",
       "        vertical-align: middle;\n",
       "    }\n",
       "\n",
       "    .dataframe tbody tr th {\n",
       "        vertical-align: top;\n",
       "    }\n",
       "\n",
       "    .dataframe thead th {\n",
       "        text-align: right;\n",
       "    }\n",
       "</style>\n",
       "<table border=\"1\" class=\"dataframe\">\n",
       "  <thead>\n",
       "    <tr style=\"text-align: right;\">\n",
       "      <th></th>\n",
       "      <th>feature</th>\n",
       "      <th>importance</th>\n",
       "    </tr>\n",
       "  </thead>\n",
       "  <tbody>\n",
       "    <tr>\n",
       "      <th>0</th>\n",
       "      <td>thumbs_up_ratio</td>\n",
       "      <td>0.225154</td>\n",
       "    </tr>\n",
       "    <tr>\n",
       "      <th>1</th>\n",
       "      <td>thumbs_down_ratio</td>\n",
       "      <td>0.105197</td>\n",
       "    </tr>\n",
       "    <tr>\n",
       "      <th>2</th>\n",
       "      <td>add_friend</td>\n",
       "      <td>0.080114</td>\n",
       "    </tr>\n",
       "    <tr>\n",
       "      <th>3</th>\n",
       "      <td>help_ratio</td>\n",
       "      <td>0.091796</td>\n",
       "    </tr>\n",
       "    <tr>\n",
       "      <th>4</th>\n",
       "      <td>ts_active</td>\n",
       "      <td>0.376416</td>\n",
       "    </tr>\n",
       "    <tr>\n",
       "      <th>5</th>\n",
       "      <td>thumbs_down_lw</td>\n",
       "      <td>0.045305</td>\n",
       "    </tr>\n",
       "    <tr>\n",
       "      <th>6</th>\n",
       "      <td>advert_ts</td>\n",
       "      <td>0.032064</td>\n",
       "    </tr>\n",
       "    <tr>\n",
       "      <th>7</th>\n",
       "      <td>next_lw</td>\n",
       "      <td>0.043953</td>\n",
       "    </tr>\n",
       "    <tr>\n",
       "      <th>8</th>\n",
       "      <td>gender</td>\n",
       "      <td>0.000000</td>\n",
       "    </tr>\n",
       "  </tbody>\n",
       "</table>\n",
       "</div>"
      ],
      "text/plain": [
       "             feature  importance\n",
       "0    thumbs_up_ratio    0.225154\n",
       "1  thumbs_down_ratio    0.105197\n",
       "2         add_friend    0.080114\n",
       "3         help_ratio    0.091796\n",
       "4          ts_active    0.376416\n",
       "5     thumbs_down_lw    0.045305\n",
       "6          advert_ts    0.032064\n",
       "7            next_lw    0.043953\n",
       "8             gender    0.000000"
      ]
     },
     "execution_count": 83,
     "metadata": {},
     "output_type": "execute_result"
    }
   ],
   "source": [
    "# show feature importance to see how the model is structured\n",
    "gb_importance = gb_model_crossval.bestModel.stages[-1].featureImportances\n",
    "feature_names = ['thumbs_up_ratio', 'thumbs_down_ratio', 'add_friend', 'help_ratio', 'ts_active', 'thumbs_down_lw', 'advert_ts', 'next_lw', 'gender']\n",
    "\n",
    "pd.DataFrame({\"feature\": feature_names, \"importance\": gb_importance})"
   ]
  },
  {
   "cell_type": "code",
   "execution_count": 84,
   "metadata": {},
   "outputs": [],
   "source": [
    "# transformer of cross validator applies the best performing pipeline by default\n",
    "gb_results = gb_model_crossval.transform(test)"
   ]
  },
  {
   "cell_type": "code",
   "execution_count": 85,
   "metadata": {},
   "outputs": [
    {
     "data": {
      "text/plain": [
       "{'AUC score': 0.9111111111111111,\n",
       " 'F1 score': 0.7664835164835164,\n",
       " 'Correct prediction ratio': 0.7916666666666666}"
      ]
     },
     "execution_count": 85,
     "metadata": {},
     "output_type": "execute_result"
    }
   ],
   "source": [
    "# evaluate results on the test data\n",
    "model_evaluation['gbt'] = get_model_evaluation(gb_results)\n",
    "model_evaluation['gbt']"
   ]
  },
  {
   "cell_type": "markdown",
   "metadata": {},
   "source": [
    "**Final results**"
   ]
  },
  {
   "cell_type": "code",
   "execution_count": 86,
   "metadata": {},
   "outputs": [
    {
     "data": {
      "text/html": [
       "<div>\n",
       "<style scoped>\n",
       "    .dataframe tbody tr th:only-of-type {\n",
       "        vertical-align: middle;\n",
       "    }\n",
       "\n",
       "    .dataframe tbody tr th {\n",
       "        vertical-align: top;\n",
       "    }\n",
       "\n",
       "    .dataframe thead th {\n",
       "        text-align: right;\n",
       "    }\n",
       "</style>\n",
       "<table border=\"1\" class=\"dataframe\">\n",
       "  <thead>\n",
       "    <tr style=\"text-align: right;\">\n",
       "      <th></th>\n",
       "      <th>AUC score</th>\n",
       "      <th>Correct prediction ratio</th>\n",
       "      <th>F1 score</th>\n",
       "    </tr>\n",
       "  </thead>\n",
       "  <tbody>\n",
       "    <tr>\n",
       "      <th>logistic regression</th>\n",
       "      <td>0.962963</td>\n",
       "      <td>0.750000</td>\n",
       "      <td>0.708333</td>\n",
       "    </tr>\n",
       "    <tr>\n",
       "      <th>gbt</th>\n",
       "      <td>0.911111</td>\n",
       "      <td>0.791667</td>\n",
       "      <td>0.766484</td>\n",
       "    </tr>\n",
       "  </tbody>\n",
       "</table>\n",
       "</div>"
      ],
      "text/plain": [
       "                     AUC score  Correct prediction ratio  F1 score\n",
       "logistic regression   0.962963                  0.750000  0.708333\n",
       "gbt                   0.911111                  0.791667  0.766484"
      ]
     },
     "execution_count": 86,
     "metadata": {},
     "output_type": "execute_result"
    }
   ],
   "source": [
    "# compare the evaluation metrics the implemented classifiers produced on the test data\n",
    "pd.DataFrame(model_evaluation).transpose()"
   ]
  }
 ],
 "metadata": {
  "kernelspec": {
   "display_name": "Python 3",
   "language": "python",
   "name": "python3"
  },
  "language_info": {
   "codemirror_mode": {
    "name": "ipython",
    "version": 3
   },
   "file_extension": ".py",
   "mimetype": "text/x-python",
   "name": "python",
   "nbconvert_exporter": "python",
   "pygments_lexer": "ipython3",
   "version": "3.6.3"
  }
 },
 "nbformat": 4,
 "nbformat_minor": 2
}
